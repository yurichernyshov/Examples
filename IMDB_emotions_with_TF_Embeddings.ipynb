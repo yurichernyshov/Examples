{
 "cells": [
  {
   "cell_type": "code",
   "execution_count": 1,
   "metadata": {
    "id": "Bv4tL0CdXvpH"
   },
   "outputs": [],
   "source": [
    "from tensorflow.keras.models import Sequential\n",
    "from tensorflow.keras.layers import Dense, Dropout, Embedding, Flatten\n",
    "\n",
    "from tensorflow.keras.preprocessing.sequence import pad_sequences\n",
    "\n",
    "from tensorflow.keras.datasets import imdb\n",
    "\n",
    "import matplotlib.pyplot as plt"
   ]
  },
  {
   "cell_type": "code",
   "execution_count": 2,
   "metadata": {
    "colab": {
     "base_uri": "https://localhost:8080/"
    },
    "id": "g2e8LBi9YAdQ",
    "outputId": "0fa89b02-45e9-40e8-aac8-558c09cfbb82"
   },
   "outputs": [],
   "source": [
    "(X_train, y_train), (X_test, y_test) = imdb.load_data(num_words=10000)"
   ]
  },
  {
   "cell_type": "code",
   "execution_count": 3,
   "metadata": {
    "colab": {
     "base_uri": "https://localhost:8080/"
    },
    "id": "n0TqDVhmZRSt",
    "outputId": "34cbbf9f-8131-46b6-9323-e7ea7af71f04"
   },
   "outputs": [
    {
     "data": {
      "text/plain": [
       "((25000,), (25000,), (25000,), (25000,))"
      ]
     },
     "execution_count": 3,
     "metadata": {},
     "output_type": "execute_result"
    }
   ],
   "source": [
    "X_train.shape, y_train.shape, X_test.shape, y_test.shape"
   ]
  },
  {
   "cell_type": "code",
   "execution_count": 4,
   "metadata": {
    "id": "poW9Kj3lZrB9"
   },
   "outputs": [],
   "source": [
    "X_train_pad = pad_sequences(X_train, maxlen=1000)\n",
    "X_test_pad = pad_sequences(X_test, maxlen=1000)"
   ]
  },
  {
   "cell_type": "code",
   "execution_count": 25,
   "metadata": {
    "id": "SL7ENXh3Z-QI"
   },
   "outputs": [],
   "source": [
    "model = Sequential()\n",
    "model.add(Embedding(10000, 2, input_length=1000))\n",
    "model.add(Dropout(0.25))\n",
    "model.add(Flatten())\n",
    "model.add(Dense(1, activation='sigmoid'))"
   ]
  },
  {
   "cell_type": "code",
   "execution_count": 26,
   "metadata": {
    "id": "vEM-fro2am8B"
   },
   "outputs": [],
   "source": [
    "model.compile(optimizer='adam', loss='binary_crossentropy', metrics=['accuracy'])"
   ]
  },
  {
   "cell_type": "code",
   "execution_count": 27,
   "metadata": {
    "colab": {
     "base_uri": "https://localhost:8080/"
    },
    "id": "wpmzTgV2a-Xp",
    "outputId": "17a78031-6a1c-4824-de66-257abfe959ce"
   },
   "outputs": [
    {
     "name": "stdout",
     "output_type": "stream",
     "text": [
      "Epoch 1/10\n",
      "782/782 [==============================] - 1s 2ms/step - loss: 0.6306 - accuracy: 0.6386 - val_loss: 0.4484 - val_accuracy: 0.8300\n",
      "Epoch 2/10\n",
      "782/782 [==============================] - 1s 1ms/step - loss: 0.3453 - accuracy: 0.8652 - val_loss: 0.3083 - val_accuracy: 0.8778\n",
      "Epoch 3/10\n",
      "782/782 [==============================] - 1s 2ms/step - loss: 0.2582 - accuracy: 0.9010 - val_loss: 0.2808 - val_accuracy: 0.8854\n",
      "Epoch 4/10\n",
      "782/782 [==============================] - 1s 1ms/step - loss: 0.2205 - accuracy: 0.9166 - val_loss: 0.2722 - val_accuracy: 0.8883\n",
      "Epoch 5/10\n",
      "782/782 [==============================] - 1s 1ms/step - loss: 0.1978 - accuracy: 0.9248 - val_loss: 0.2717 - val_accuracy: 0.8868\n",
      "Epoch 6/10\n",
      "782/782 [==============================] - 1s 2ms/step - loss: 0.1785 - accuracy: 0.9351 - val_loss: 0.2717 - val_accuracy: 0.8860\n",
      "Epoch 7/10\n",
      "782/782 [==============================] - 1s 1ms/step - loss: 0.1684 - accuracy: 0.9378 - val_loss: 0.2917 - val_accuracy: 0.8800\n",
      "Epoch 8/10\n",
      "782/782 [==============================] - 1s 2ms/step - loss: 0.1537 - accuracy: 0.9429 - val_loss: 0.2874 - val_accuracy: 0.8823\n",
      "Epoch 9/10\n",
      "782/782 [==============================] - 1s 2ms/step - loss: 0.1450 - accuracy: 0.9477 - val_loss: 0.2875 - val_accuracy: 0.8840\n",
      "Epoch 10/10\n",
      "782/782 [==============================] - 1s 1ms/step - loss: 0.1354 - accuracy: 0.9512 - val_loss: 0.2974 - val_accuracy: 0.8813\n"
     ]
    }
   ],
   "source": [
    "history = model.fit(X_train_pad, y_train, epochs=10, validation_data=(X_test_pad, y_test))"
   ]
  },
  {
   "cell_type": "code",
   "execution_count": 29,
   "metadata": {},
   "outputs": [
    {
     "data": {
      "image/png": "[encoded data removed]",
      "text/plain": [
       "<Figure size 432x288 with 2 Axes>"
      ]
     },
     "metadata": {
      "needs_background": "light"
     },
     "output_type": "display_data"
    }
   ],
   "source": [
    "plt.subplot(121)\n",
    "plt.plot(history.history['loss'], label='loss')\n",
    "plt.plot(history.history['val_loss'], label='val_loss')\n",
    "plt.legend(loc='best')\n",
    "plt.grid(True)\n",
    "\n",
    "plt.subplot(122)\n",
    "plt.plot(history.history['accuracy'], label='accuracy')\n",
    "plt.plot(history.history['val_accuracy'], label='val_accuracy')\n",
    "plt.legend(loc='best')\n",
    "plt.grid(True)\n",
    "\n",
    "plt.show()"
   ]
  },
  {
   "cell_type": "code",
   "execution_count": 30,
   "metadata": {
    "id": "oGZdjaODbCaq"
   },
   "outputs": [],
   "source": [
    "embeddings = model.layers[0].get_weights()[0]"
   ]
  },
  {
   "cell_type": "code",
   "execution_count": 31,
   "metadata": {
    "colab": {
     "base_uri": "https://localhost:8080/"
    },
    "id": "C-rUUoRLnPgO",
    "outputId": "fa839632-87a4-4781-cb24-93c1f660968e"
   },
   "outputs": [
    {
     "name": "stdout",
     "output_type": "stream",
     "text": [
      "Downloading data from https://storage.googleapis.com/tensorflow/tf-keras-datasets/imdb_word_index.json\n",
      "1646592/1641221 [==============================] - 0s 0us/step\n"
     ]
    }
   ],
   "source": [
    "word_index_orig = imdb.get_word_index()"
   ]
  },
  {
   "cell_type": "code",
   "execution_count": 32,
   "metadata": {
    "colab": {
     "base_uri": "https://localhost:8080/"
    },
    "id": "Q1p8Q-YFnpH7",
    "outputId": "fcafc94c-d62e-4f19-b055-32a1b075efab"
   },
   "outputs": [
    {
     "data": {
      "text/plain": [
       "88584"
      ]
     },
     "execution_count": 32,
     "metadata": {},
     "output_type": "execute_result"
    }
   ],
   "source": [
    "len(word_index_orig)"
   ]
  },
  {
   "cell_type": "code",
   "execution_count": 33,
   "metadata": {
    "colab": {
     "base_uri": "https://localhost:8080/",
     "height": 167
    },
    "id": "U8z4xHPunrv6",
    "outputId": "018a32b7-f950-473d-f195-dbf94c629857"
   },
   "outputs": [
    {
     "data": {
      "text/plain": [
       "49"
      ]
     },
     "execution_count": 33,
     "metadata": {},
     "output_type": "execute_result"
    }
   ],
   "source": [
    "word_index_orig['good']"
   ]
  },
  {
   "cell_type": "code",
   "execution_count": 34,
   "metadata": {
    "colab": {
     "base_uri": "https://localhost:8080/"
    },
    "id": "kjTUsgIwoktS",
    "outputId": "b9dc41f8-0def-414c-e806-f5bd8bec944f"
   },
   "outputs": [
    {
     "data": {
      "text/plain": [
       "[('the', 1),\n",
       " ('and', 2),\n",
       " ('a', 3),\n",
       " ('of', 4),\n",
       " ('to', 5),\n",
       " ('is', 6),\n",
       " ('br', 7),\n",
       " ('in', 8),\n",
       " ('it', 9),\n",
       " ('i', 10)]"
      ]
     },
     "execution_count": 34,
     "metadata": {},
     "output_type": "execute_result"
    }
   ],
   "source": [
    "sorted(list(word_index_orig.items()), key=lambda x:word_index_orig[x[0]], reverse=False)[:10]"
   ]
  },
  {
   "cell_type": "code",
   "execution_count": 35,
   "metadata": {
    "id": "FnE6-lDdn3Py"
   },
   "outputs": [],
   "source": [
    "word_index = dict()\n",
    "word_index['<Заполнитель>'] = 0\n",
    "word_index['<Начало последовательности>'] = 0\n",
    "word_index['<Неизвестное слово>'] = 0\n",
    "word_index['<Не используется>'] = 0\n",
    "\n",
    "for word,number in word_index_orig.items():\n",
    "  word_index[word] = number+3\n"
   ]
  },
  {
   "cell_type": "code",
   "execution_count": 36,
   "metadata": {
    "colab": {
     "base_uri": "https://localhost:8080/"
    },
    "id": "RttDF9lAqa2l",
    "outputId": "97bd7fdc-385a-4453-c3ad-e5f0248dedf0"
   },
   "outputs": [
    {
     "name": "stdout",
     "output_type": "stream",
     "text": [
      "Слово 'test', номер 2181, вектор [-0.1037003   0.09695999]\n"
     ]
    }
   ],
   "source": [
    "word = 'test'\n",
    "word_number = word_index[word]\n",
    "print(\"Слово '{}', номер {}, вектор {}\".format(word, word_number, embeddings[word_number]))"
   ]
  },
  {
   "cell_type": "code",
   "execution_count": 37,
   "metadata": {
    "colab": {
     "base_uri": "https://localhost:8080/",
     "height": 320
    },
    "id": "Wjbaflraq6tb",
    "outputId": "7c7b19ce-c5f9-4bc7-dadc-43c8d233851d"
   },
   "outputs": [
    {
     "data": {
      "image/png": "[encoded data removed]",
      "text/plain": [
       "<Figure size 1440x360 with 1 Axes>"
      ]
     },
     "metadata": {
      "needs_background": "light"
     },
     "output_type": "display_data"
    }
   ],
   "source": [
    "word_list = ['bad', 'annoyed', 'good', 'excellent', 'perfect', 'average', 'interesting','beauty','amazing']\n",
    "\n",
    "plt.figure(figsize=(20,5))\n",
    "for word in word_list:\n",
    "  x,y = embeddings[word_index[word]]\n",
    "  plt.scatter(x,y)\n",
    "  plt.text(x+0.01, y-0.01, word)\n",
    "\n",
    "plt.show()"
   ]
  },
  {
   "cell_type": "code",
   "execution_count": null,
   "metadata": {
    "id": "ZJPnDmK6sGV5"
   },
   "outputs": [],
   "source": []
  }
 ],
 "metadata": {
  "colab": {
   "name": "Untitled27.ipynb",
   "provenance": []
  },
  "kernelspec": {
   "display_name": "Python 3",
   "language": "python",
   "name": "python3"
  },
  "language_info": {
   "codemirror_mode": {
    "name": "ipython",
    "version": 3
   },
   "file_extension": ".py",
   "mimetype": "text/x-python",
   "name": "python",
   "nbconvert_exporter": "python",
   "pygments_lexer": "ipython3",
   "version": "3.7.4"
  }
 },
 "nbformat": 4,
 "nbformat_minor": 1
}
