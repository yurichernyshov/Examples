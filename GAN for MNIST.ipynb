{
 "cells": [
  {
   "cell_type": "code",
   "execution_count": 1,
   "id": "seventh-intent",
   "metadata": {},
   "outputs": [
    {
     "name": "stdout",
     "output_type": "stream",
     "text": [
      "INFO:tensorflow:Enabling eager execution\n",
      "INFO:tensorflow:Enabling v2 tensorshape\n",
      "INFO:tensorflow:Enabling resource variables\n",
      "INFO:tensorflow:Enabling tensor equality\n",
      "INFO:tensorflow:Enabling control flow v2\n"
     ]
    }
   ],
   "source": [
    "import tensorflow as tf\n",
    "import tensorflow.keras.layers as L\n",
    "from tensorflow.keras.models import Sequential\n",
    "\n",
    "import numpy as np\n",
    "import matplotlib.pyplot as plt\n",
    "\n",
    "import sys\n",
    "from tqdm import tqdm"
   ]
  },
  {
   "cell_type": "markdown",
   "id": "yellow-victor",
   "metadata": {},
   "source": [
    "# Загрузка данных"
   ]
  },
  {
   "cell_type": "code",
   "execution_count": 2,
   "id": "scheduled-essay",
   "metadata": {},
   "outputs": [],
   "source": [
    "from tensorflow.keras.datasets.mnist import load_data"
   ]
  },
  {
   "cell_type": "code",
   "execution_count": 3,
   "id": "silver-portuguese",
   "metadata": {},
   "outputs": [],
   "source": [
    "(X_train, y_train), (_, _) = load_data()"
   ]
  },
  {
   "cell_type": "code",
   "execution_count": 4,
   "id": "present-exchange",
   "metadata": {},
   "outputs": [
    {
     "data": {
      "text/plain": [
       "((60000, 28, 28), (60000,))"
      ]
     },
     "execution_count": 4,
     "metadata": {},
     "output_type": "execute_result"
    }
   ],
   "source": [
    "X_train.shape, y_train.shape"
   ]
  },
  {
   "cell_type": "code",
   "execution_count": 5,
   "id": "identified-mirror",
   "metadata": {},
   "outputs": [
    {
     "data": {
      "image/png": "[encoded data removed]",
      "text/plain": [
       "<Figure size 1440x360 with 10 Axes>"
      ]
     },
     "metadata": {
      "needs_background": "light"
     },
     "output_type": "display_data"
    }
   ],
   "source": [
    "_, ax = plt.subplots(1,10, figsize=(20,5))\n",
    "for i in range(10):\n",
    "    num = np.random.randint(0, X_train.shape[0])\n",
    "    ax[i].imshow(X_train[num], cmap='gray')\n",
    "    ax[i].set_title(\"i:{}, y:{}\".format(num, y_train[num]))\n",
    "    ax[i].axis('off')\n",
    "plt.show()"
   ]
  },
  {
   "cell_type": "markdown",
   "id": "active-synthetic",
   "metadata": {},
   "source": [
    "# GAN"
   ]
  },
  {
   "cell_type": "code",
   "execution_count": 7,
   "id": "southeast-musical",
   "metadata": {},
   "outputs": [],
   "source": [
    "SAMPLE_SIZE = 100\n",
    "PIC_SIZE = 784"
   ]
  },
  {
   "cell_type": "code",
   "execution_count": 54,
   "id": "coupled-belize",
   "metadata": {},
   "outputs": [],
   "source": [
    "generator = Sequential()\n",
    "\n",
    "generator.add(L.Dense(256, input_dim=SAMPLE_SIZE))\n",
    "generator.add(L.LeakyReLU(0.2))\n",
    "\n",
    "generator.add(L.Dense(512))\n",
    "generator.add(L.LeakyReLU(0.2))\n",
    "\n",
    "generator.add(L.Dense(1024))\n",
    "generator.add(L.LeakyReLU(0.2))\n",
    "\n",
    "generator.add(L.Dense(PIC_SIZE, activation='tanh'))"
   ]
  },
  {
   "cell_type": "code",
   "execution_count": 55,
   "id": "cloudy-defensive",
   "metadata": {},
   "outputs": [],
   "source": [
    "discriminator = Sequential()\n",
    "\n",
    "discriminator.add(L.Dense(1024, input_dim=PIC_SIZE))\n",
    "discriminator.add(L.LeakyReLU(0.2))\n",
    "discriminator.add(L.Dropout(0.3))\n",
    "\n",
    "discriminator.add(L.Dense(512))\n",
    "discriminator.add(L.LeakyReLU(0.2))\n",
    "discriminator.add(L.Dropout(0.3))\n",
    "\n",
    "discriminator.add(L.Dense(256))\n",
    "discriminator.add(L.LeakyReLU(0.2))\n",
    "discriminator.add(L.Dropout(0.3))\n",
    "\n",
    "discriminator.add(L.Dense(1, activation='sigmoid'))"
   ]
  },
  {
   "cell_type": "code",
   "execution_count": 56,
   "id": "dying-happening",
   "metadata": {},
   "outputs": [],
   "source": [
    "discriminator.trainable = False\n",
    "\n",
    "ganInput = L.Input(shape=(SAMPLE_SIZE,))\n",
    "x = generator(ganInput)\n",
    "ganOutput = discriminator(x)\n",
    "\n",
    "gan = tf.keras.models.Model(inputs=ganInput, outputs=ganOutput)"
   ]
  },
  {
   "cell_type": "code",
   "execution_count": 57,
   "id": "common-corporation",
   "metadata": {},
   "outputs": [],
   "source": [
    "discriminator.compile(optimizer='adam', loss='binary_crossentropy')\n",
    "gan.compile(optimizer='adam', loss='binary_crossentropy')"
   ]
  },
  {
   "cell_type": "code",
   "execution_count": 58,
   "id": "ambient-queue",
   "metadata": {},
   "outputs": [],
   "source": [
    "digits = []\n",
    "Dloss = []\n",
    "Gloss = []"
   ]
  },
  {
   "cell_type": "code",
   "execution_count": 59,
   "id": "effective-onion",
   "metadata": {},
   "outputs": [],
   "source": [
    "X_train_proc = (X_train.astype(np.float32) - 127.5)/127.5\n",
    "X_train_proc = X_train_proc.reshape(60000, 784)"
   ]
  },
  {
   "cell_type": "code",
   "execution_count": 60,
   "id": "threatened-mandate",
   "metadata": {},
   "outputs": [
    {
     "name": "stdout",
     "output_type": "stream",
     "text": [
      "Epoch 0, dloss 9.413320541381836, gloss 0.00021756475325673819\n"
     ]
    }
   ],
   "source": [
    "EPOCHS = 1\n",
    "BATCH_SIZE = 512\n",
    "\n",
    "for e in range(EPOCHS):\n",
    "    for _ in range(int(X_train_proc.shape[0]/BATCH_SIZE)):\n",
    "        \n",
    "        # train discriminator\n",
    "        noise = np.random.normal(0, 1, size=(BATCH_SIZE*99, SAMPLE_SIZE))\n",
    "        generated_images = generator.predict(noise)    \n",
    "        X_train_disc = np.concatenate([X_train_proc[np.random.randint(0, X_train.shape[0], BATCH_SIZE)], \n",
    "                                       generated_images])\n",
    "        y_train_disc = np.zeros(BATCH_SIZE*100)\n",
    "        y_train_disc[:BATCH_SIZE] = 0.95\n",
    "        \n",
    "        discriminator.trainable = True\n",
    "        dloss = discriminator.train_on_batch(X_train_disc, y_train_disc)\n",
    "        Dloss.append(dloss)\n",
    "            \n",
    "        #train generator\n",
    "        X_train_gan = np.random.normal(0, 1, size=(int(BATCH_SIZE/512), SAMPLE_SIZE))\n",
    "        y_train_gan = np.ones(shape=int(BATCH_SIZE/512))\n",
    "\n",
    "        discriminator.trainable = False    \n",
    "        gloss = gan.train_on_batch(X_train_gan, y_train_gan)\n",
    "        Gloss.append(gloss)\n",
    "    \n",
    "    print(\"Epoch {}, dloss {}, gloss {}\".format(e, dloss, gloss))\n",
    "    digits.append(generator.predict(np.random.normal(0,1,size=(3,SAMPLE_SIZE))))    "
   ]
  },
  {
   "cell_type": "code",
   "execution_count": 18,
   "id": "british-smooth",
   "metadata": {},
   "outputs": [
    {
     "name": "stdout",
     "output_type": "stream",
     "text": [
      "[[0.9999941]] [[0.51511514]]\n",
      "[[0.99999404]] [[0.60482824]]\n"
     ]
    }
   ],
   "source": [
    "for i in np.random.randint(0,10,2):\n",
    "    data_ = np.random.normal(0, 1, size=(1,SAMPLE_SIZE))\n",
    "    r1 = gan.predict(data_)\n",
    "    r2 = discriminator.predict(X_train_proc[i].reshape(-1,784))\n",
    "    print(r1, r2)"
   ]
  },
  {
   "cell_type": "code",
   "execution_count": null,
   "id": "extra-barrier",
   "metadata": {},
   "outputs": [],
   "source": [
    "plt.plot(Dloss)\n",
    "plt.plot(Gloss)\n",
    "plt.show()"
   ]
  },
  {
   "cell_type": "code",
   "execution_count": null,
   "id": "critical-admission",
   "metadata": {},
   "outputs": [],
   "source": [
    "show_digits = digits[::10]\n",
    "len(digits)"
   ]
  },
  {
   "cell_type": "code",
   "execution_count": null,
   "id": "professional-discharge",
   "metadata": {},
   "outputs": [],
   "source": [
    "_, ax = plt.subplots(len(show_digits),3, figsize=(20,20))\n",
    "for i in range(len(show_digits)):\n",
    "    for j, digit in enumerate(show_digits[i]):\n",
    "        ax[i][j].imshow(digit.reshape(28,28))\n",
    "plt.show()"
   ]
  },
  {
   "cell_type": "code",
   "execution_count": null,
   "id": "nuclear-burton",
   "metadata": {},
   "outputs": [],
   "source": [
    "data_ = np.random.normal(0,1,size=SAMPLE_SIZE)\n",
    "print(data_)\n",
    "img_ = generator.predict(data_.reshape(1,-1))\n",
    "print(img_[0][:28])\n",
    "plt.imshow(img_.reshape(28,28))\n",
    "plt.show()"
   ]
  },
  {
   "cell_type": "code",
   "execution_count": null,
   "id": "sensitive-valley",
   "metadata": {},
   "outputs": [],
   "source": []
  },
  {
   "cell_type": "code",
   "execution_count": null,
   "id": "extreme-crest",
   "metadata": {},
   "outputs": [],
   "source": []
  }
 ],
 "metadata": {
  "kernelspec": {
   "display_name": "Python 3",
   "language": "python",
   "name": "python3"
  },
  "language_info": {
   "codemirror_mode": {
    "name": "ipython",
    "version": 3
   },
   "file_extension": ".py",
   "mimetype": "text/x-python",
   "name": "python",
   "nbconvert_exporter": "python",
   "pygments_lexer": "ipython3",
   "version": "3.9.2"
  }
 },
 "nbformat": 4,
 "nbformat_minor": 5
}
