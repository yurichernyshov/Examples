{
 "cells": [
  {
   "cell_type": "code",
   "execution_count": 1,
   "id": "seventh-intent",
   "metadata": {},
   "outputs": [],
   "source": [
    "import tensorflow as tf\n",
    "import tensorflow.keras.layers as L\n",
    "from tensorflow.keras.models import Sequential\n",
    "\n",
    "import numpy as np\n",
    "import matplotlib.pyplot as plt\n",
    "\n",
    "import sys\n",
    "from tqdm import tqdm"
   ]
  },
  {
   "cell_type": "markdown",
   "id": "yellow-victor",
   "metadata": {},
   "source": [
    "# Загрузка данных"
   ]
  },
  {
   "cell_type": "code",
   "execution_count": 2,
   "id": "scheduled-essay",
   "metadata": {},
   "outputs": [],
   "source": [
    "from tensorflow.keras.datasets.mnist import load_data"
   ]
  },
  {
   "cell_type": "code",
   "execution_count": 3,
   "id": "silver-portuguese",
   "metadata": {},
   "outputs": [],
   "source": [
    "(X_train, y_train), (X_test, y_test) = load_data()"
   ]
  },
  {
   "cell_type": "code",
   "execution_count": 4,
   "id": "present-exchange",
   "metadata": {},
   "outputs": [
    {
     "data": {
      "text/plain": [
       "((60000, 28, 28), (60000,), (10000, 28, 28), (10000,))"
      ]
     },
     "execution_count": 4,
     "metadata": {},
     "output_type": "execute_result"
    }
   ],
   "source": [
    "X_train.shape, y_train.shape, X_test.shape, y_test.shape"
   ]
  },
  {
   "cell_type": "code",
   "execution_count": 70,
   "id": "identified-mirror",
   "metadata": {},
   "outputs": [
    {
     "data": {
      "image/png": "[encoded data removed]",
      "text/plain": [
       "<Figure size 1440x360 with 10 Axes>"
      ]
     },
     "metadata": {
      "needs_background": "light"
     },
     "output_type": "display_data"
    }
   ],
   "source": [
    "_, ax = plt.subplots(1,10, figsize=(20,5))\n",
    "for i in range(10):\n",
    "    num = np.random.randint(0, X_train.shape[0])\n",
    "    ax[i].imshow(X_train[num], cmap='gray')\n",
    "    ax[i].set_title(\"i:{}, y:{}\".format(num, y_train[num]))\n",
    "plt.show()"
   ]
  },
  {
   "cell_type": "markdown",
   "id": "optimum-installation",
   "metadata": {},
   "source": [
    "# Полносвязная сеть"
   ]
  },
  {
   "cell_type": "code",
   "execution_count": 76,
   "id": "closed-details",
   "metadata": {},
   "outputs": [
    {
     "data": {
      "text/plain": [
       "((60000, 784), (60000, 10), (10000, 784), (10000, 10))"
      ]
     },
     "execution_count": 76,
     "metadata": {},
     "output_type": "execute_result"
    }
   ],
   "source": [
    "X_train_proc = X_train.reshape(-1, np.product(X_train.shape[1:3]))\n",
    "y_train_ohe = tf.keras.utils.to_categorical(y_train)\n",
    "X_test_proc = X_test.reshape(-1, np.product(X_test.shape[1:3]))\n",
    "y_test_ohe = tf.keras.utils.to_categorical(y_test)\n",
    "\n",
    "PIC_SIZE = int(np.product(X_train.shape[1:3]))\n",
    "\n",
    "X_train_proc.shape, y_train_ohe.shape, X_test_proc.shape, y_test_ohe.shape"
   ]
  },
  {
   "cell_type": "code",
   "execution_count": 59,
   "id": "confused-grammar",
   "metadata": {},
   "outputs": [],
   "source": [
    "model = Sequential()\n",
    "model.add(L.Input(int(PIC_SIZE)))\n",
    "model.add(L.Dense(int(PIC_SIZE), activation='relu'))\n",
    "model.add(L.Dense(10, activation='softmax'))\n",
    "model.compile(optimizer='RMSprop', loss='categorical_crossentropy', metrics=['accuracy'])"
   ]
  },
  {
   "cell_type": "code",
   "execution_count": 60,
   "id": "fatal-hello",
   "metadata": {},
   "outputs": [
    {
     "name": "stdout",
     "output_type": "stream",
     "text": [
      "Model: \"sequential_16\"\n",
      "_________________________________________________________________\n",
      "Layer (type)                 Output Shape              Param #   \n",
      "=================================================================\n",
      "dense_30 (Dense)             (None, 784)               615440    \n",
      "_________________________________________________________________\n",
      "dense_31 (Dense)             (None, 10)                7850      \n",
      "=================================================================\n",
      "Total params: 623,290\n",
      "Trainable params: 623,290\n",
      "Non-trainable params: 0\n",
      "_________________________________________________________________\n"
     ]
    }
   ],
   "source": [
    "model.summary()"
   ]
  },
  {
   "cell_type": "code",
   "execution_count": 61,
   "id": "enormous-heath",
   "metadata": {},
   "outputs": [
    {
     "name": "stdout",
     "output_type": "stream",
     "text": [
      "Epoch 1/10\n",
      "1875/1875 [==============================] - 6s 3ms/step - loss: 3.5571 - accuracy: 0.9135 - val_loss: 0.8753 - val_accuracy: 0.9477\n",
      "Epoch 2/10\n",
      "1875/1875 [==============================] - 6s 3ms/step - loss: 0.9636 - accuracy: 0.9533 - val_loss: 1.3975 - val_accuracy: 0.9402\n",
      "Epoch 3/10\n",
      "1875/1875 [==============================] - 6s 3ms/step - loss: 0.7192 - accuracy: 0.9644 - val_loss: 0.9398 - val_accuracy: 0.9602\n",
      "Epoch 4/10\n",
      "1875/1875 [==============================] - 6s 3ms/step - loss: 0.6620 - accuracy: 0.9697 - val_loss: 0.7381 - val_accuracy: 0.9686\n",
      "Epoch 5/10\n",
      "1875/1875 [==============================] - 6s 3ms/step - loss: 0.5273 - accuracy: 0.9751 - val_loss: 0.9816 - val_accuracy: 0.9634\n",
      "Epoch 6/10\n",
      "1875/1875 [==============================] - 6s 3ms/step - loss: 0.5112 - accuracy: 0.9769 - val_loss: 0.8474 - val_accuracy: 0.9734\n",
      "Epoch 7/10\n",
      "1875/1875 [==============================] - 6s 3ms/step - loss: 0.4852 - accuracy: 0.9796 - val_loss: 1.2733 - val_accuracy: 0.9624\n",
      "Epoch 8/10\n",
      "1875/1875 [==============================] - 6s 3ms/step - loss: 0.4456 - accuracy: 0.9815 - val_loss: 0.9637 - val_accuracy: 0.9748\n",
      "Epoch 9/10\n",
      "1875/1875 [==============================] - 6s 3ms/step - loss: 0.4133 - accuracy: 0.9835 - val_loss: 1.2472 - val_accuracy: 0.9711\n",
      "Epoch 10/10\n",
      "1875/1875 [==============================] - 6s 3ms/step - loss: 0.4268 - accuracy: 0.9843 - val_loss: 1.1460 - val_accuracy: 0.9748\n"
     ]
    }
   ],
   "source": [
    "history = model.fit(X_train_proc, y_train_ohe, epochs=10, validation_data=(X_test_proc, y_test_ohe))"
   ]
  },
  {
   "cell_type": "code",
   "execution_count": 62,
   "id": "important-iraqi",
   "metadata": {},
   "outputs": [
    {
     "data": {
      "image/png": "[encoded data removed]",
      "text/plain": [
       "<Figure size 432x288 with 1 Axes>"
      ]
     },
     "metadata": {
      "needs_background": "light"
     },
     "output_type": "display_data"
    }
   ],
   "source": [
    "plt.plot(history.history['accuracy'], label='acc')\n",
    "plt.plot(history.history['val_accuracy'], label='val_acc')\n",
    "plt.legend()\n",
    "plt.show()"
   ]
  },
  {
   "cell_type": "markdown",
   "id": "active-synthetic",
   "metadata": {},
   "source": [
    "# GAN"
   ]
  },
  {
   "cell_type": "code",
   "execution_count": 72,
   "id": "southeast-musical",
   "metadata": {},
   "outputs": [],
   "source": [
    "SAMPLE_SIZE = 10\n",
    "PIC_SIZE=28*28"
   ]
  },
  {
   "cell_type": "code",
   "execution_count": 73,
   "id": "coupled-belize",
   "metadata": {},
   "outputs": [],
   "source": [
    "generator = Sequential()\n",
    "generator.add(L.Dense(256, input_dim=SAMPLE_SIZE))\n",
    "generator.add(L.LeakyReLU(0.2))\n",
    "generator.add(L.Dense(512))\n",
    "generator.add(L.LeakyReLU(0.2))\n",
    "generator.add(L.Dense(1024))\n",
    "generator.add(L.LeakyReLU(0.2))\n",
    "generator.add(L.Dense(PIC_SIZE, activation='tanh'))"
   ]
  },
  {
   "cell_type": "code",
   "execution_count": 74,
   "id": "cloudy-defensive",
   "metadata": {},
   "outputs": [],
   "source": [
    "discriminator = Sequential()\n",
    "\n",
    "discriminator.add(L.Dense(1024, input_dim=PIC_SIZE))\n",
    "discriminator.add(L.LeakyReLU(0.2))\n",
    "discriminator.add(L.Dropout(0.3))\n",
    "\n",
    "discriminator.add(L.Dense(512))\n",
    "discriminator.add(L.LeakyReLU(0.2))\n",
    "discriminator.add(L.Dropout(0.3))\n",
    "\n",
    "discriminator.add(L.Dense(256))\n",
    "discriminator.add(L.LeakyReLU(0.2))\n",
    "discriminator.add(L.Dropout(0.3))\n",
    "\n",
    "discriminator.add(L.Dense(1, activation='sigmoid'))"
   ]
  },
  {
   "cell_type": "code",
   "execution_count": 75,
   "id": "dying-happening",
   "metadata": {},
   "outputs": [],
   "source": [
    "discriminator.trainable = False\n",
    "gan_inputs = L.Input(shape=(SAMPLE_SIZE,))\n",
    "x = generator(gan_inputs)\n",
    "gan_outputs = discriminator(x)\n",
    "\n",
    "gan = tf.keras.models.Model(inputs=gan_inputs, outputs=gan_outputs)"
   ]
  },
  {
   "cell_type": "code",
   "execution_count": 76,
   "id": "common-corporation",
   "metadata": {},
   "outputs": [],
   "source": [
    "discriminator.compile(optimizer='adam', loss='binary_crossentropy')\n",
    "gan.compile(optimizer='adam', loss='binary_crossentropy')"
   ]
  },
  {
   "cell_type": "code",
   "execution_count": 77,
   "id": "effective-onion",
   "metadata": {},
   "outputs": [],
   "source": [
    "digits = []\n",
    "Dloss = []\n",
    "Gloss = []\n",
    "X_train_proc = X_train.reshape(X_train.shape[0],-1)/255*2 - 1"
   ]
  },
  {
   "cell_type": "code",
   "execution_count": 80,
   "id": "confidential-candidate",
   "metadata": {},
   "outputs": [
    {
     "data": {
      "text/plain": [
       "(-1.0, 1.0, -0.9999877, 0.99999833)"
      ]
     },
     "execution_count": 80,
     "metadata": {},
     "output_type": "execute_result"
    }
   ],
   "source": [
    "X_train_proc.min(), X_train_proc.max(), generated_images.min(), generated_images.max()"
   ]
  },
  {
   "cell_type": "code",
   "execution_count": 81,
   "id": "threatened-mandate",
   "metadata": {},
   "outputs": [
    {
     "name": "stdout",
     "output_type": "stream",
     "text": [
      "Epoch 0, dloss 5.199748992919922, gloss 0.00041875019087456167\n",
      "Epoch 1, dloss 5.273015022277832, gloss 0.00041165767470374703\n",
      "Epoch 2, dloss 5.260573387145996, gloss 0.0004546963900793344\n",
      "Epoch 3, dloss 5.303339958190918, gloss 0.0005258923629298806\n",
      "Epoch 4, dloss 5.3934245109558105, gloss 0.00045247512753121555\n",
      "Epoch 5, dloss 5.250465393066406, gloss 0.00047622653073631227\n",
      "Epoch 6, dloss 5.45176887512207, gloss 0.000344656320521608\n",
      "Epoch 7, dloss 5.538447380065918, gloss 0.00032472360180690885\n",
      "Epoch 8, dloss 5.466198921203613, gloss 0.0002797921188175678\n",
      "Epoch 9, dloss 5.51558256149292, gloss 0.0002555025275796652\n",
      "Epoch 10, dloss 5.4486002922058105, gloss 0.00030294014140963554\n",
      "Epoch 11, dloss 5.566544532775879, gloss 0.0002733804867602885\n",
      "Epoch 12, dloss 5.5005059242248535, gloss 0.00028093851869925857\n",
      "Epoch 13, dloss 5.635229110717773, gloss 0.0002341564977541566\n",
      "Epoch 14, dloss 5.55867862701416, gloss 0.0002685044310055673\n",
      "Epoch 15, dloss 5.717648029327393, gloss 0.0002884015557356179\n",
      "Epoch 16, dloss 5.73293399810791, gloss 0.0002106265746988356\n",
      "Epoch 17, dloss 5.572622299194336, gloss 0.0003083322080783546\n",
      "Epoch 18, dloss 5.588468074798584, gloss 0.00026487582363188267\n",
      "Epoch 19, dloss 5.561060905456543, gloss 0.00021851436758879572\n"
     ]
    }
   ],
   "source": [
    "EPOCHS = 20\n",
    "BATCH_SIZE = 128\n",
    "\n",
    "for i in range(EPOCHS):\n",
    "    for j in range(int(X_train_proc.shape[0]/BATCH_SIZE)):\n",
    "        # train discriminator\n",
    "        noise = np.random.normal(0,1,size=(BATCH_SIZE, SAMPLE_SIZE))\n",
    "        generated_images = generator.predict(noise)    \n",
    "        X_train_disc = np.concatenate([X_train_proc[np.random.randint(0, X_train.shape[0], BATCH_SIZE)],\n",
    "                                       generated_images])\n",
    "        y_train_disc = np.concatenate([np.full(BATCH_SIZE, 1, dtype='float'), \n",
    "                                       np.zeros(BATCH_SIZE, dtype='float')])\n",
    "        discriminator.trainable = True\n",
    "        dloss = discriminator.train_on_batch(X_train_disc, y_train_disc)\n",
    "        Dloss.append(dloss)\n",
    "            \n",
    "        #train generator\n",
    "        X_train_gan = np.random.normal(0,1,size=(BATCH_SIZE, SAMPLE_SIZE))\n",
    "        y_train_gan = np.ones(shape=BATCH_SIZE)\n",
    "        discriminator.trainable = False    \n",
    "        gloss = gan.train_on_batch(X_train_gan, y_train_gan)\n",
    "        Gloss.append(gloss)\n",
    "    \n",
    "    print(\"Epoch {}, dloss {}, gloss {}\".format(i, dloss, gloss))\n",
    "    digits.append(generator.predict(np.random.normal(0,1,size=(3,SAMPLE_SIZE))))    "
   ]
  },
  {
   "cell_type": "code",
   "execution_count": 82,
   "id": "extra-barrier",
   "metadata": {},
   "outputs": [
    {
     "data": {
      "image/png": "[encoded data removed]",
      "text/plain": [
       "<Figure size 432x288 with 1 Axes>"
      ]
     },
     "metadata": {
      "needs_background": "light"
     },
     "output_type": "display_data"
    }
   ],
   "source": [
    "plt.plot(Dloss)\n",
    "plt.plot(Gloss)\n",
    "plt.show()"
   ]
  },
  {
   "cell_type": "code",
   "execution_count": 94,
   "id": "critical-admission",
   "metadata": {},
   "outputs": [],
   "source": [
    "len(digits)\n",
    "show_digits = digits[::10]"
   ]
  },
  {
   "cell_type": "code",
   "execution_count": 95,
   "id": "professional-discharge",
   "metadata": {},
   "outputs": [
    {
     "data": {
      "image/png": "[encoded data removed]",
      "text/plain": [
       "<Figure size 1440x1440 with 6 Axes>"
      ]
     },
     "metadata": {
      "needs_background": "light"
     },
     "output_type": "display_data"
    }
   ],
   "source": [
    "_, ax = plt.subplots(len(show_digits),3, figsize=(20,20))\n",
    "for i in range(len(show_digits)):\n",
    "    for j, digit in enumerate(show_digits[i]):\n",
    "        ax[i][j].imshow(digit.reshape(28,28))\n",
    "plt.show()"
   ]
  },
  {
   "cell_type": "code",
   "execution_count": 96,
   "id": "nuclear-burton",
   "metadata": {},
   "outputs": [
    {
     "data": {
      "image/png": "[encoded data removed]",
      "text/plain": [
       "<Figure size 432x288 with 1 Axes>"
      ]
     },
     "metadata": {
      "needs_background": "light"
     },
     "output_type": "display_data"
    }
   ],
   "source": [
    "plt.imshow(generator.predict(np.random.normal(0,1,size=SAMPLE_SIZE).reshape(1,-1)).reshape(28,28))\n",
    "plt.show()"
   ]
  },
  {
   "cell_type": "code",
   "execution_count": null,
   "id": "sensitive-valley",
   "metadata": {},
   "outputs": [],
   "source": []
  }
 ],
 "metadata": {
  "kernelspec": {
   "display_name": "Python 3",
   "language": "python",
   "name": "python3"
  },
  "language_info": {
   "codemirror_mode": {
    "name": "ipython",
    "version": 3
   },
   "file_extension": ".py",
   "mimetype": "text/x-python",
   "name": "python",
   "nbconvert_exporter": "python",
   "pygments_lexer": "ipython3",
   "version": "3.7.4"
  }
 },
 "nbformat": 4,
 "nbformat_minor": 5
}
