{
 "cells": [
  {
   "cell_type": "code",
   "execution_count": 1,
   "metadata": {},
   "outputs": [],
   "source": [
    "import numpy as np\n",
    "import matplotlib.pyplot as plt"
   ]
  },
  {
   "cell_type": "code",
   "execution_count": 303,
   "metadata": {},
   "outputs": [],
   "source": [
    "POPULATION_SIZE = 500_000\n",
    "BOARD_SIZE = 8"
   ]
  },
  {
   "cell_type": "code",
   "execution_count": 373,
   "metadata": {},
   "outputs": [],
   "source": [
    "class Population():\n",
    "    \n",
    "    def __init__(self, N=BOARD_SIZE):\n",
    "        self.N = N\n",
    "        self.population = np.array(np.random.randint(low=0, \n",
    "                                                     high=self.N, \n",
    "                                                     size=(POPULATION_SIZE,self.N,2)))\n",
    "        \n",
    "    def get_population_size(self):\n",
    "        return self.population.shape[0]\n",
    "    \n",
    "    def get_population_fitnesses(self):\n",
    "        return [self.f_fitness(i) for i in self.population]\n",
    "    \n",
    "    def mate(self):\n",
    "        mated = []\n",
    "        for p in self.population:\n",
    "            if self.f_fitness(p)<5:\n",
    "                mated.append(p)\n",
    "        del self.population\n",
    "        self.population = np.array(mated)\n",
    "    \n",
    "    def mutate(self):\n",
    "        for p in self.population:\n",
    "            p[np.random.randint(low=0, high=BOARD_SIZE)] = (p[np.random.randint(low=0, high=BOARD_SIZE)] + 1) % BOARD_SIZE\n",
    "    \n",
    "    def crossover(self):\n",
    "        for p1, p2 in zip(self.population[::2],self.population[1::2]):\n",
    "            for idx in range(len(p1))[::2]:\n",
    "                p1[idx], p2[idx] = p2[idx], p1[idx]\n",
    "    \n",
    "    def f_fitness(self, ind):\n",
    "        result = 0\n",
    "        for i in range(len(ind)):\n",
    "            for j in range(i+1, len(ind)):\n",
    "                if ind[i,0]==ind[j,0] or ind[i,1]==ind[j,1] or abs(ind[i,0]-ind[j,0])==abs(ind[i,1]-ind[j,1]):\n",
    "                    result += 1\n",
    "        return result\n",
    "    \n",
    "    def draw(self):\n",
    "        try:\n",
    "            plt.scatter(self.population[:,0], self.population[:,1])\n",
    "            plt.show()\n",
    "        except:\n",
    "            print(\"Can not draw a picture\")\n",
    "    "
   ]
  },
  {
   "cell_type": "code",
   "execution_count": 374,
   "metadata": {},
   "outputs": [],
   "source": [
    "population = Population()"
   ]
  },
  {
   "cell_type": "code",
   "execution_count": 375,
   "metadata": {},
   "outputs": [
    {
     "data": {
      "text/plain": [
       "500000"
      ]
     },
     "execution_count": 375,
     "metadata": {},
     "output_type": "execute_result"
    }
   ],
   "source": [
    "population.get_population_size()"
   ]
  },
  {
   "cell_type": "code",
   "execution_count": 376,
   "metadata": {},
   "outputs": [
    {
     "data": {
      "text/plain": [
       "(array([    0,     0,    32,   335,  1768,  6684, 18212, 35954, 57237,\n",
       "        73038, 77720, 71755, 57174, 40675, 26709, 15619,  8705,  4298,\n",
       "         2196,  1025,   502,   186,   102,    44,    23,     5,     2]),\n",
       " array([ 2,  3,  4,  5,  6,  7,  8,  9, 10, 11, 12, 13, 14, 15, 16, 17, 18,\n",
       "        19, 20, 21, 22, 23, 24, 25, 26]),\n",
       " (27,),\n",
       " (25,))"
      ]
     },
     "execution_count": 376,
     "metadata": {},
     "output_type": "execute_result"
    }
   ],
   "source": [
    "a = population.get_population_fitnesses()\n",
    "np.bincount(a), np.unique(a), np.bincount(a).shape, np.unique(a).shape"
   ]
  },
  {
   "cell_type": "code",
   "execution_count": 377,
   "metadata": {},
   "outputs": [
    {
     "data": {
      "text/plain": [
       "(array([], dtype=int64), array([], dtype=int64))"
      ]
     },
     "execution_count": 377,
     "metadata": {},
     "output_type": "execute_result"
    }
   ],
   "source": [
    "np.where(np.array(a)==1)[0], np.where(np.array(a)==0)[0]"
   ]
  },
  {
   "cell_type": "code",
   "execution_count": 384,
   "metadata": {},
   "outputs": [
    {
     "data": {
      "image/png": "[encoded data removed]",
      "text/plain": [
       "<Figure size 432x288 with 1 Axes>"
      ]
     },
     "metadata": {
      "needs_background": "light"
     },
     "output_type": "display_data"
    }
   ],
   "source": [
    "idxs = np.where(np.array(a)==1)[0]\n",
    "if len(idxs)>1:\n",
    "    fig, ax = plt.subplots(1,len(idxs), figsize=(20, 4))\n",
    "    for i, idx in enumerate(idxs):\n",
    "        ax[i].scatter(population.population[idx,:,0], population.population[idx,:,1])\n",
    "        ax[i].grid(True)\n",
    "        ax[i].set_xticks(range(BOARD_SIZE))\n",
    "        ax[i].set_yticks(range(BOARD_SIZE))\n",
    "else:\n",
    "    plt.scatter(population.population[idxs,:,0], population.population[idxs,:,1])\n",
    "    plt.grid(True)\n",
    "    plt.xticks(range(BOARD_SIZE))\n",
    "    plt.yticks(range(BOARD_SIZE))\n",
    "    \n",
    "    \n",
    "plt.show()"
   ]
  },
  {
   "cell_type": "code",
   "execution_count": 385,
   "metadata": {},
   "outputs": [
    {
     "data": {
      "text/plain": [
       "(array([], shape=(0, 8), dtype=int64), array([], shape=(0, 8), dtype=int64))"
      ]
     },
     "execution_count": 385,
     "metadata": {},
     "output_type": "execute_result"
    }
   ],
   "source": [
    "population.population[idxs,:,0], population.population[idxs,:,1]"
   ]
  },
  {
   "cell_type": "code",
   "execution_count": 386,
   "metadata": {},
   "outputs": [],
   "source": [
    "population.mate()"
   ]
  },
  {
   "cell_type": "code",
   "execution_count": 387,
   "metadata": {},
   "outputs": [
    {
     "data": {
      "text/plain": [
       "196"
      ]
     },
     "execution_count": 387,
     "metadata": {},
     "output_type": "execute_result"
    }
   ],
   "source": [
    "population.get_population_size()"
   ]
  },
  {
   "cell_type": "code",
   "execution_count": 403,
   "metadata": {
    "scrolled": true
   },
   "outputs": [
    {
     "data": {
      "text/plain": [
       "(array([ 0,  0,  0,  0,  1,  4,  7, 18, 28, 31, 34, 20, 22,  8, 11,  3,  7,\n",
       "         1,  0,  1]),\n",
       " array([ 4,  5,  6,  7,  8,  9, 10, 11, 12, 13, 14, 15, 16, 17, 19]),\n",
       " (20,),\n",
       " (15,))"
      ]
     },
     "execution_count": 403,
     "metadata": {},
     "output_type": "execute_result"
    }
   ],
   "source": [
    "a = population.get_population_fitnesses()\n",
    "np.bincount(a), np.unique(a), np.bincount(a).shape, np.unique(a).shape"
   ]
  },
  {
   "cell_type": "code",
   "execution_count": 401,
   "metadata": {},
   "outputs": [],
   "source": [
    "population.crossover()"
   ]
  },
  {
   "cell_type": "code",
   "execution_count": 402,
   "metadata": {},
   "outputs": [],
   "source": [
    "population.mutate()"
   ]
  },
  {
   "cell_type": "code",
   "execution_count": 382,
   "metadata": {},
   "outputs": [
    {
     "data": {
      "text/plain": [
       "2135"
      ]
     },
     "execution_count": 382,
     "metadata": {},
     "output_type": "execute_result"
    }
   ],
   "source": [
    "population.get_population_size()"
   ]
  },
  {
   "cell_type": "code",
   "execution_count": null,
   "metadata": {},
   "outputs": [],
   "source": []
  },
  {
   "cell_type": "code",
   "execution_count": null,
   "metadata": {},
   "outputs": [],
   "source": []
  },
  {
   "cell_type": "code",
   "execution_count": null,
   "metadata": {},
   "outputs": [],
   "source": []
  },
  {
   "cell_type": "code",
   "execution_count": 332,
   "metadata": {},
   "outputs": [],
   "source": [
    "a = np.array([[1,1],[2,2],[3,3],[4,4],[5,5]])"
   ]
  },
  {
   "cell_type": "code",
   "execution_count": 333,
   "metadata": {},
   "outputs": [
    {
     "data": {
      "text/plain": [
       "array([[1, 1],\n",
       "       [2, 2],\n",
       "       [3, 3],\n",
       "       [4, 4],\n",
       "       [5, 5]])"
      ]
     },
     "execution_count": 333,
     "metadata": {},
     "output_type": "execute_result"
    }
   ],
   "source": [
    "a"
   ]
  },
  {
   "cell_type": "code",
   "execution_count": 334,
   "metadata": {},
   "outputs": [],
   "source": [
    "for i, (i1, i2) in enumerate(zip(a[::2],a[1::2])):\n",
    "    i1[0], i2[0] = i2[0], i1[0]"
   ]
  },
  {
   "cell_type": "code",
   "execution_count": 335,
   "metadata": {},
   "outputs": [
    {
     "data": {
      "text/plain": [
       "array([[2, 1],\n",
       "       [1, 2],\n",
       "       [4, 3],\n",
       "       [3, 4],\n",
       "       [5, 5]])"
      ]
     },
     "execution_count": 335,
     "metadata": {},
     "output_type": "execute_result"
    }
   ],
   "source": [
    "a"
   ]
  },
  {
   "cell_type": "code",
   "execution_count": null,
   "metadata": {},
   "outputs": [],
   "source": []
  }
 ],
 "metadata": {
  "kernelspec": {
   "display_name": "Python 3",
   "language": "python",
   "name": "python3"
  },
  "language_info": {
   "codemirror_mode": {
    "name": "ipython",
    "version": 3
   },
   "file_extension": ".py",
   "mimetype": "text/x-python",
   "name": "python",
   "nbconvert_exporter": "python",
   "pygments_lexer": "ipython3",
   "version": "3.6.9"
  }
 },
 "nbformat": 4,
 "nbformat_minor": 4
}
