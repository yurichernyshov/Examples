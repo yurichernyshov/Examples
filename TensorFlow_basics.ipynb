{
  "nbformat": 4,
  "nbformat_minor": 0,
  "metadata": {
    "colab": {
      "name": "Linear regression with TF.ipynb",
      "provenance": []
    },
    "kernelspec": {
      "name": "python3",
      "display_name": "Python 3"
    },
    "language_info": {
      "name": "python"
    }
  },
  "cells": [
    {
      "cell_type": "code",
      "metadata": {
        "colab": {
          "base_uri": "https://localhost:8080/"
        },
        "id": "eMqXVA4fiM5Z",
        "outputId": "575c430d-6ec0-40cf-d3a6-b5e620a2a478"
      },
      "source": [
        "!uname -a"
      ],
      "execution_count": 1,
      "outputs": [
        {
          "output_type": "stream",
          "text": [
            "Linux 33c9c2e04395 4.19.112+ #1 SMP Thu Jul 23 08:00:38 PDT 2020 x86_64 x86_64 x86_64 GNU/Linux\n"
          ],
          "name": "stdout"
        }
      ]
    },
    {
      "cell_type": "markdown",
      "metadata": {
        "id": "giQvUno4zdzE"
      },
      "source": [
        "# Основы работы с TensorFlow"
      ]
    },
    {
      "cell_type": "code",
      "metadata": {
        "colab": {
          "base_uri": "https://localhost:8080/"
        },
        "id": "bWyhSYpciV6n",
        "outputId": "8e7afc6f-a29f-4433-fb5c-33cdacbb3f54"
      },
      "source": [
        "%tensorflow_version 1.x\n",
        "import tensorflow as tf\n",
        "print(tf.__version__)"
      ],
      "execution_count": 3,
      "outputs": [
        {
          "output_type": "stream",
          "text": [
            "TensorFlow 1.x selected.\n",
            "1.15.2\n"
          ],
          "name": "stdout"
        }
      ]
    },
    {
      "cell_type": "code",
      "metadata": {
        "id": "ShXvA_UalUde"
      },
      "source": [
        "import numpy as np\n",
        "import matplotlib.pyplot as plt"
      ],
      "execution_count": 18,
      "outputs": []
    },
    {
      "cell_type": "markdown",
      "metadata": {
        "id": "_WscPwEAzj-x"
      },
      "source": [
        "## Создание переменных и выполнение операций."
      ]
    },
    {
      "cell_type": "code",
      "metadata": {
        "id": "20g_o1W3icKz"
      },
      "source": [
        "a = tf.Variable(1.)"
      ],
      "execution_count": 4,
      "outputs": []
    },
    {
      "cell_type": "code",
      "metadata": {
        "id": "YCkEDHzEjcr1"
      },
      "source": [
        "b = tf.Variable(2.)"
      ],
      "execution_count": 5,
      "outputs": []
    },
    {
      "cell_type": "code",
      "metadata": {
        "colab": {
          "base_uri": "https://localhost:8080/"
        },
        "id": "qzRNJL5Mjiq-",
        "outputId": "786cec2d-84a4-49cd-e077-c99a2d8ce20b"
      },
      "source": [
        "a+b"
      ],
      "execution_count": 6,
      "outputs": [
        {
          "output_type": "execute_result",
          "data": {
            "text/plain": [
              "<tf.Tensor 'add:0' shape=() dtype=float32>"
            ]
          },
          "metadata": {
            "tags": []
          },
          "execution_count": 6
        }
      ]
    },
    {
      "cell_type": "code",
      "metadata": {
        "id": "Uu5y9nE1jjmN"
      },
      "source": [
        "s = tf.Session()"
      ],
      "execution_count": 13,
      "outputs": []
    },
    {
      "cell_type": "code",
      "metadata": {
        "id": "6ziVHvnEkAU7"
      },
      "source": [
        "s.run(tf.global_variables_initializer())"
      ],
      "execution_count": 14,
      "outputs": []
    },
    {
      "cell_type": "code",
      "metadata": {
        "colab": {
          "base_uri": "https://localhost:8080/"
        },
        "id": "VfGPI-rKkJY1",
        "outputId": "8eef5d36-32b4-4070-9ef2-b4f470068f44"
      },
      "source": [
        "s.run(a+b)"
      ],
      "execution_count": 15,
      "outputs": [
        {
          "output_type": "execute_result",
          "data": {
            "text/plain": [
              "3.0"
            ]
          },
          "metadata": {
            "tags": []
          },
          "execution_count": 15
        }
      ]
    },
    {
      "cell_type": "code",
      "metadata": {
        "id": "MsxQbbnukK0F"
      },
      "source": [
        "s.close()"
      ],
      "execution_count": 16,
      "outputs": []
    },
    {
      "cell_type": "markdown",
      "metadata": {
        "id": "aHKAmjQwz177"
      },
      "source": [
        "## Решение задач оптимизации (поиск минимума)."
      ]
    },
    {
      "cell_type": "code",
      "metadata": {
        "colab": {
          "base_uri": "https://localhost:8080/",
          "height": 264
        },
        "id": "TqrmHW8nkcJd",
        "outputId": "658c4106-52f1-4b09-c689-786dac1ad328"
      },
      "source": [
        "xs = np.linspace(-10, 10, 100)\n",
        "ys = np.power(xs, 2) + 10*np.cos(xs)\n",
        "\n",
        "plt.plot(xs, ys, c='b')\n",
        "plt.grid(True)\n",
        "plt.show()"
      ],
      "execution_count": 87,
      "outputs": [
        {
          "output_type": "display_data",
          "data": {
            "image/png": "[encoded data removed]",
            "text/plain": [
              "<Figure size 432x288 with 1 Axes>"
            ]
          },
          "metadata": {
            "tags": [],
            "needs_background": "light"
          }
        }
      ]
    },
    {
      "cell_type": "code",
      "metadata": {
        "id": "ten9zPvhlxFn"
      },
      "source": [
        "t_xs = tf.Variable([10.])\n",
        "t_ys = tf.pow(t_xs, 2) + 10*tf.cos(t_xs)"
      ],
      "execution_count": 102,
      "outputs": []
    },
    {
      "cell_type": "code",
      "metadata": {
        "id": "KyAn9GI7mid8"
      },
      "source": [
        "optimizer = tf.train.GradientDescentOptimizer(learning_rate=0.001)"
      ],
      "execution_count": 111,
      "outputs": []
    },
    {
      "cell_type": "code",
      "metadata": {
        "id": "l3JJrwx5nCIO"
      },
      "source": [
        "step = optimizer.minimize(t_ys)"
      ],
      "execution_count": 112,
      "outputs": []
    },
    {
      "cell_type": "code",
      "metadata": {
        "colab": {
          "base_uri": "https://localhost:8080/"
        },
        "id": "14vRdBvInKs9",
        "outputId": "df81d3f7-f4ea-49c7-dfd1-5fcbbc1a57c0"
      },
      "source": [
        "x_r, y_r = [], []\n",
        "s = tf.Session()\n",
        "s.run(tf.global_variables_initializer())\n",
        "\n",
        "for i in range(1000):\n",
        "  _, x, y = s.run([step, t_xs, t_ys])\n",
        "  if i%100==0:\n",
        "    print(x, y)\n",
        "    x_r.append(x)\n",
        "    y_r.append(y)\n",
        "\n",
        "s.close()"
      ],
      "execution_count": 115,
      "outputs": [
        {
          "output_type": "stream",
          "text": [
            "[9.97456] [91.60928]\n",
            "[8.461271] [65.96344]\n",
            "[7.7914915] [61.36329]\n",
            "[7.2189317] [58.085712]\n",
            "[6.365152] [50.62179]\n",
            "[4.6939044] [22.224913]\n",
            "[3.288576] [0.9883976]\n",
            "[2.8173428] [-1.5353785]\n",
            "[2.6700373] [-1.7788825]\n",
            "[2.6211743] [-1.8054833]\n"
          ],
          "name": "stdout"
        }
      ]
    },
    {
      "cell_type": "code",
      "metadata": {
        "colab": {
          "base_uri": "https://localhost:8080/",
          "height": 320
        },
        "id": "o2fks3qWoERV",
        "outputId": "b82fd1fa-9444-4d46-ad6a-4bddb1852d2a"
      },
      "source": [
        "plt.figure(figsize=(20,5))\n",
        "plt.scatter(xs, ys, c='b')\n",
        "plt.scatter(x_r, y_r, c='r', s=100)\n",
        "plt.grid(True)\n",
        "plt.show()"
      ],
      "execution_count": 120,
      "outputs": [
        {
          "output_type": "display_data",
          "data": {
            "image/png": "[encoded data removed]",
            "text/plain": [
              "<Figure size 1440x360 with 1 Axes>"
            ]
          },
          "metadata": {
            "tags": [],
            "needs_background": "light"
          }
        }
      ]
    },
    {
      "cell_type": "markdown",
      "metadata": {
        "id": "XMs5yS__1o-i"
      },
      "source": [
        "На рисунке показаны промежуточные значения поиска минимума."
      ]
    },
    {
      "cell_type": "markdown",
      "metadata": {
        "id": "szlUdF-U1QlV"
      },
      "source": [
        "## Построение линейной регрессии."
      ]
    },
    {
      "cell_type": "code",
      "metadata": {
        "colab": {
          "base_uri": "https://localhost:8080/",
          "height": 264
        },
        "id": "b5uF342_oICY",
        "outputId": "a88819cf-ea40-4048-a16d-597e0c6964d5"
      },
      "source": [
        "xs = np.linspace(0, 10, 50)\n",
        "ys = xs**2 + np.random.random(50)*10\n",
        "plt.scatter(xs, ys)\n",
        "plt.show()"
      ],
      "execution_count": 123,
      "outputs": [
        {
          "output_type": "display_data",
          "data": {
            "image/png": "[encoded data removed]",
            "text/plain": [
              "<Figure size 432x288 with 1 Axes>"
            ]
          },
          "metadata": {
            "tags": [],
            "needs_background": "light"
          }
        }
      ]
    },
    {
      "cell_type": "code",
      "metadata": {
        "id": "Kb99HVoSp_zW"
      },
      "source": [
        "X = tf.placeholder(dtype=tf.float32)\n",
        "Y = tf.placeholder(dtype=tf.float32)"
      ],
      "execution_count": 124,
      "outputs": []
    },
    {
      "cell_type": "code",
      "metadata": {
        "colab": {
          "base_uri": "https://localhost:8080/"
        },
        "id": "4MJQBw8xqZk7",
        "outputId": "5d6a3428-1bc1-45c3-a990-3a398d6ed575"
      },
      "source": [
        "X"
      ],
      "execution_count": 125,
      "outputs": [
        {
          "output_type": "execute_result",
          "data": {
            "text/plain": [
              "<tf.Tensor 'Placeholder_3:0' shape=<unknown> dtype=float32>"
            ]
          },
          "metadata": {
            "tags": []
          },
          "execution_count": 125
        }
      ]
    },
    {
      "cell_type": "code",
      "metadata": {
        "id": "7NLMG68JqaJM"
      },
      "source": [
        "def model(X,w):\n",
        "  return tf.multiply(X,w)"
      ],
      "execution_count": 126,
      "outputs": []
    },
    {
      "cell_type": "code",
      "metadata": {
        "id": "XvmBd0V4qyTe"
      },
      "source": [
        "w = tf.Variable([0.], dtype=tf.float32)"
      ],
      "execution_count": 127,
      "outputs": []
    },
    {
      "cell_type": "code",
      "metadata": {
        "id": "DmGD736Pq4yW"
      },
      "source": [
        "y_model = model(X,w)"
      ],
      "execution_count": 128,
      "outputs": []
    },
    {
      "cell_type": "code",
      "metadata": {
        "id": "HRKYNtmwq8Ru"
      },
      "source": [
        "loss = tf.sqrt(tf.reduce_sum(tf.pow(tf.subtract(y_model, Y), 2)))"
      ],
      "execution_count": 129,
      "outputs": []
    },
    {
      "cell_type": "code",
      "metadata": {
        "id": "Mc3abTYDrvlz"
      },
      "source": [
        "optimizer = tf.train.RMSPropOptimizer(0.01)\n",
        "step = optimizer.minimize(loss)"
      ],
      "execution_count": 130,
      "outputs": []
    },
    {
      "cell_type": "code",
      "metadata": {
        "colab": {
          "base_uri": "https://localhost:8080/"
        },
        "id": "l25OYT8fsPFv",
        "outputId": "5a05acb2-8cf5-4edc-c57f-e1bd502db18f"
      },
      "source": [
        "s = tf.Session()\n",
        "s.run(tf.global_variables_initializer())\n",
        "\n",
        "for epoch in range(1000):\n",
        "  s.run(step, feed_dict={X:xs, Y:ys})\n",
        "\n",
        "result = s.run(w)\n",
        "\n",
        "print(result)\n",
        "s.close()"
      ],
      "execution_count": 131,
      "outputs": [
        {
          "output_type": "stream",
          "text": [
            "[8.370406]\n"
          ],
          "name": "stdout"
        }
      ]
    },
    {
      "cell_type": "code",
      "metadata": {
        "colab": {
          "base_uri": "https://localhost:8080/",
          "height": 264
        },
        "id": "aJoYPgLetTXi",
        "outputId": "8d2f88bb-462e-4431-9090-0c7cf9dae06e"
      },
      "source": [
        "plt.scatter(xs, ys)\n",
        "plt.plot(xs, xs*result[0], c='r')\n",
        "plt.show()"
      ],
      "execution_count": 132,
      "outputs": [
        {
          "output_type": "display_data",
          "data": {
            "image/png": "[encoded data removed]",
            "text/plain": [
              "<Figure size 432x288 with 1 Axes>"
            ]
          },
          "metadata": {
            "tags": [],
            "needs_background": "light"
          }
        }
      ]
    },
    {
      "cell_type": "code",
      "metadata": {
        "id": "05BdJUE5t6q7"
      },
      "source": [
        ""
      ],
      "execution_count": 132,
      "outputs": []
    },
    {
      "cell_type": "code",
      "metadata": {
        "id": "9ghynQXNwHiv"
      },
      "source": [
        ""
      ],
      "execution_count": null,
      "outputs": []
    }
  ]
}